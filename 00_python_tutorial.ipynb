{
 "cells": [
  {
   "cell_type": "markdown",
   "id": "087be641",
   "metadata": {},
   "source": [
    "# Introduction to Python\n",
    "\n",
    "### Basic operations"
   ]
  },
  {
   "cell_type": "code",
   "execution_count": 1,
   "id": "dfd18dea",
   "metadata": {},
   "outputs": [
    {
     "data": {
      "text/plain": [
       "6"
      ]
     },
     "execution_count": 1,
     "metadata": {},
     "output_type": "execute_result"
    }
   ],
   "source": [
    "# Add two numbers\n",
    "1 + 5"
   ]
  },
  {
   "cell_type": "code",
   "execution_count": 2,
   "id": "a1cc75d7",
   "metadata": {},
   "outputs": [
    {
     "data": {
      "text/plain": [
       "2.0"
      ]
     },
     "execution_count": 2,
     "metadata": {},
     "output_type": "execute_result"
    }
   ],
   "source": [
    "# Divide two numbers\n",
    "10 / 5 # Division always returns a floating point number"
   ]
  },
  {
   "cell_type": "code",
   "execution_count": 3,
   "id": "bac08706",
   "metadata": {},
   "outputs": [
    {
     "data": {
      "text/plain": [
       "32"
      ]
     },
     "execution_count": 3,
     "metadata": {},
     "output_type": "execute_result"
    }
   ],
   "source": [
    "# Exponentiation\n",
    "2 ** 5"
   ]
  },
  {
   "cell_type": "code",
   "execution_count": 4,
   "id": "01fe6507",
   "metadata": {},
   "outputs": [
    {
     "name": "stdout",
     "output_type": "stream",
     "text": [
      "32\n"
     ]
    }
   ],
   "source": [
    "# We can also print results to the screen using the print function\n",
    "print(2 ** 5)"
   ]
  },
  {
   "cell_type": "code",
   "execution_count": 5,
   "id": "c948cc9c",
   "metadata": {},
   "outputs": [
    {
     "name": "stdout",
     "output_type": "stream",
     "text": [
      "5\n",
      "32\n"
     ]
    }
   ],
   "source": [
    "# We can assign values to a variable using the = operator\n",
    "x = 5\n",
    "y = 2 ** 5\n",
    "\n",
    "print(x)\n",
    "print(y)"
   ]
  },
  {
   "cell_type": "code",
   "execution_count": 6,
   "id": "ac08f55f",
   "metadata": {},
   "outputs": [
    {
     "name": "stdout",
     "output_type": "stream",
     "text": [
      "Hello\n"
     ]
    }
   ],
   "source": [
    "# Similarly, we can assign string values\n",
    "a = 'Hello'\n",
    "print(a)"
   ]
  },
  {
   "cell_type": "code",
   "execution_count": 7,
   "id": "c8d5ac20",
   "metadata": {},
   "outputs": [
    {
     "name": "stdout",
     "output_type": "stream",
     "text": [
      "HelloHelloHelloHelloHello\n",
      "Hello world!\n"
     ]
    }
   ],
   "source": [
    "\n",
    "\n",
    "# We can perform arithmetic operations of string variables\n",
    "print(5 * a)\n",
    "print(a + ' world!') # String concatenation\n",
    "\n"
   ]
  },
  {
   "cell_type": "code",
   "execution_count": 8,
   "id": "70914c84",
   "metadata": {},
   "outputs": [
    {
     "ename": "TypeError",
     "evalue": "unsupported operand type(s) for -: 'str' and 'str'",
     "output_type": "error",
     "traceback": [
      "\u001b[1;31m---------------------------------------------------------------------------\u001b[0m",
      "\u001b[1;31mTypeError\u001b[0m                                 Traceback (most recent call last)",
      "\u001b[1;32m~\\AppData\\Local\\Temp\\ipykernel_19912\\2675691883.py\u001b[0m in \u001b[0;36m<module>\u001b[1;34m\u001b[0m\n\u001b[0;32m      1\u001b[0m \u001b[1;31m# Substraction is not defined for strings\u001b[0m\u001b[1;33m\u001b[0m\u001b[1;33m\u001b[0m\u001b[1;33m\u001b[0m\u001b[0m\n\u001b[1;32m----> 2\u001b[1;33m \u001b[1;34m'aaa'\u001b[0m \u001b[1;33m-\u001b[0m \u001b[1;34m'a'\u001b[0m\u001b[1;33m\u001b[0m\u001b[1;33m\u001b[0m\u001b[0m\n\u001b[0m",
      "\u001b[1;31mTypeError\u001b[0m: unsupported operand type(s) for -: 'str' and 'str'"
     ]
    }
   ],
   "source": [
    "# Substraction is not defined for strings\n",
    "'aaa' - 'a'"
   ]
  },
  {
   "cell_type": "code",
   "execution_count": 9,
   "id": "1ecc62af",
   "metadata": {},
   "outputs": [
    {
     "name": "stdout",
     "output_type": "stream",
     "text": [
      "H\n",
      "He\n"
     ]
    }
   ],
   "source": [
    "# We can access an element of a string via indexing\n",
    "print(a[0]) # Note: Python uses zero-based indexing\n",
    "\n",
    "# We can also slice our string\n",
    "# Grab first two elements of the string\n",
    "print(a[:2])"
   ]
  },
  {
   "cell_type": "code",
   "execution_count": 10,
   "id": "1bb501da",
   "metadata": {},
   "outputs": [
    {
     "name": "stdout",
     "output_type": "stream",
     "text": [
      "el\n"
     ]
    }
   ],
   "source": [
    "# Grab second and third element\n",
    "print(a[1:3])"
   ]
  },
  {
   "cell_type": "code",
   "execution_count": 11,
   "id": "5b6f35f5",
   "metadata": {},
   "outputs": [
    {
     "name": "stdout",
     "output_type": "stream",
     "text": [
      "l\n"
     ]
    }
   ],
   "source": [
    "# Grab elements from position 2 until penultimate element\n",
    "print(a[2:-2])"
   ]
  },
  {
   "cell_type": "code",
   "execution_count": 12,
   "id": "4f9e26e3",
   "metadata": {},
   "outputs": [
    {
     "name": "stdout",
     "output_type": "stream",
     "text": [
      "llo\n"
     ]
    }
   ],
   "source": [
    "# From second element until the end of the string\n",
    "print(a[2:])"
   ]
  },
  {
   "cell_type": "code",
   "execution_count": 13,
   "id": "77797927",
   "metadata": {},
   "outputs": [
    {
     "data": {
      "text/plain": [
       "5"
      ]
     },
     "execution_count": 13,
     "metadata": {},
     "output_type": "execute_result"
    }
   ],
   "source": [
    "# And we can use the built-in function len to assess the length of a string\n",
    "len(a)"
   ]
  },
  {
   "cell_type": "code",
   "execution_count": 14,
   "id": "db807702",
   "metadata": {},
   "outputs": [
    {
     "data": {
      "text/plain": [
       "True"
      ]
     },
     "execution_count": 14,
     "metadata": {},
     "output_type": "execute_result"
    }
   ],
   "source": [
    "# We can also perform logical tests\n",
    "1 == 1"
   ]
  },
  {
   "cell_type": "code",
   "execution_count": 15,
   "id": "9e8b24a8",
   "metadata": {},
   "outputs": [
    {
     "name": "stdout",
     "output_type": "stream",
     "text": [
      "True\n",
      "False\n"
     ]
    }
   ],
   "source": [
    "a = 'hello'\n",
    "b = 'hello'\n",
    "c = 'world'\n",
    "\n",
    "print(a == b)\n",
    "print(a == c)"
   ]
  },
  {
   "cell_type": "code",
   "execution_count": 16,
   "id": "fddecbc7",
   "metadata": {},
   "outputs": [
    {
     "name": "stdout",
     "output_type": "stream",
     "text": [
      "True\n",
      "True\n",
      "True\n"
     ]
    }
   ],
   "source": [
    "# We can chain together logical statements and negate them\n",
    "print(a == b and not b == c)\n",
    "\n",
    "print(a == b or b == c)\n",
    "\n",
    "print(1 != 5)"
   ]
  },
  {
   "cell_type": "markdown",
   "id": "71d10113",
   "metadata": {},
   "source": [
    "## Data types and associated operations\n",
    "\n",
    "For a comprehensive overview of lists, see: https://docs.python.org/3/tutorial/datastructures.html"
   ]
  },
  {
   "cell_type": "code",
   "execution_count": 17,
   "id": "7b483838",
   "metadata": {},
   "outputs": [
    {
     "name": "stdout",
     "output_type": "stream",
     "text": [
      "[1, 2, 3]\n"
     ]
    }
   ],
   "source": [
    "# Syntax\n",
    "myList = [1, 2, 3]\n",
    "print(myList)"
   ]
  },
  {
   "cell_type": "code",
   "execution_count": 18,
   "id": "dad10664",
   "metadata": {},
   "outputs": [
    {
     "name": "stdout",
     "output_type": "stream",
     "text": [
      "<class 'list'>\n"
     ]
    }
   ],
   "source": [
    "print(type(myList))"
   ]
  },
  {
   "cell_type": "code",
   "execution_count": 19,
   "id": "d64eaa5e",
   "metadata": {},
   "outputs": [
    {
     "name": "stdout",
     "output_type": "stream",
     "text": [
      "1\n",
      "3\n"
     ]
    }
   ],
   "source": [
    "# We can index lists just as we indexed strings\n",
    "print(myList[0])\n",
    "print(myList[-1])"
   ]
  },
  {
   "cell_type": "code",
   "execution_count": 20,
   "id": "73ad1226",
   "metadata": {},
   "outputs": [
    {
     "name": "stdout",
     "output_type": "stream",
     "text": [
      "3\n"
     ]
    }
   ],
   "source": [
    "# We can use len() to check out the number of elements in the list\n",
    "print(len(myList))"
   ]
  },
  {
   "cell_type": "code",
   "execution_count": 21,
   "id": "a0d61590",
   "metadata": {},
   "outputs": [
    {
     "name": "stdout",
     "output_type": "stream",
     "text": [
      "[['a', 'b', 'c'], [1, 2, 'This is a sentence.']]\n"
     ]
    }
   ],
   "source": [
    "# The nice thing about lists is that they are very flexible. We can basiclly store anything in a list, including lists.\n",
    "myList1 = ['a', 'b', 'c']\n",
    "myList2 = [1, 2, 'This is a sentence.'] # Note that we can also mix data types in a list.\n",
    "\n",
    "myList = [myList1, myList2]\n",
    "print(myList)"
   ]
  },
  {
   "cell_type": "code",
   "execution_count": 22,
   "id": "80b1e358",
   "metadata": {},
   "outputs": [
    {
     "name": "stdout",
     "output_type": "stream",
     "text": [
      "[1, 2, 3]\n",
      "[1, 2, 3, 4]\n"
     ]
    }
   ],
   "source": [
    "# There are useful methods associated with lists (more about this in the next lesson)\n",
    "# For example, we can add an element to a list\n",
    "myList = [1, 2, 3]\n",
    "print(myList)\n",
    "\n",
    "# Use append method to add an element to a list\n",
    "myList.append(4)\n",
    "print(myList)"
   ]
  },
  {
   "cell_type": "code",
   "execution_count": 23,
   "id": "8422ff1f",
   "metadata": {},
   "outputs": [
    {
     "name": "stdout",
     "output_type": "stream",
     "text": [
      "[1, 2, 3]\n"
     ]
    }
   ],
   "source": [
    "# We can remove an element from a list\n",
    "myList.pop() # We could also specify a particular index here. Default behaviour is to remove the last element.\n",
    "print(myList)"
   ]
  },
  {
   "cell_type": "code",
   "execution_count": 24,
   "id": "f45f48ae",
   "metadata": {},
   "outputs": [
    {
     "name": "stdout",
     "output_type": "stream",
     "text": [
      "1\n",
      "[3, 2, 1]\n"
     ]
    }
   ],
   "source": [
    "# We can also count the number of times an item appears in the list\n",
    "print(myList.count(2))\n",
    "\n",
    "# And some additional (self-explanatory) methods include\n",
    "myList.reverse()\n",
    "print(myList)"
   ]
  },
  {
   "cell_type": "code",
   "execution_count": 25,
   "id": "f4c48901",
   "metadata": {},
   "outputs": [
    {
     "name": "stdout",
     "output_type": "stream",
     "text": [
      "[1, 2, 3]\n"
     ]
    }
   ],
   "source": [
    "myList.sort()\n",
    "print(myList)"
   ]
  },
  {
   "cell_type": "markdown",
   "id": "719d71a4",
   "metadata": {},
   "source": [
    "### Dictionaries\n",
    "\n",
    "For a comprehensive overview of dictionaries, see: https://docs.python.org/3/tutorial/datastructures.html#dictionaries\n",
    "\n",
    "Dictionaries are also versatile and if you ever work with json data you will be glad to know how to work with dictionaries.\n"
   ]
  },
  {
   "cell_type": "code",
   "execution_count": 26,
   "id": "4844f2ba",
   "metadata": {},
   "outputs": [
    {
     "name": "stdout",
     "output_type": "stream",
     "text": [
      "{'Dog': 'bark', 'Cat': 'Meow', 'Fifty': 50}\n"
     ]
    }
   ],
   "source": [
    "# Syntax\n",
    "myDict = {'Dog': 'bark',\n",
    "         'Cat': 'Meow',\n",
    "         'Fifty': 50}\n",
    "\n",
    "print(myDict)"
   ]
  },
  {
   "cell_type": "code",
   "execution_count": 27,
   "id": "a80db8c2",
   "metadata": {},
   "outputs": [
    {
     "name": "stdout",
     "output_type": "stream",
     "text": [
      "<class 'dict'>\n"
     ]
    }
   ],
   "source": [
    "print(type(myDict))"
   ]
  },
  {
   "cell_type": "code",
   "execution_count": 28,
   "id": "66cbcf66",
   "metadata": {},
   "outputs": [
    {
     "name": "stdout",
     "output_type": "stream",
     "text": [
      "3\n"
     ]
    }
   ],
   "source": [
    "# We can also check out how man key-value pairs we have in our dict\n",
    "print(len(myDict))"
   ]
  },
  {
   "cell_type": "code",
   "execution_count": 29,
   "id": "656f214b",
   "metadata": {},
   "outputs": [
    {
     "name": "stdout",
     "output_type": "stream",
     "text": [
      "bark\n",
      "50\n"
     ]
    }
   ],
   "source": [
    "# We can also index dict objects, but the syntax is different.\n",
    "# In dict we have key-value pairs. The key is what is the left of ':', and the value is to the right of ':'\n",
    "print(myDict['Dog'])\n",
    "print(myDict['Fifty'])"
   ]
  },
  {
   "cell_type": "markdown",
   "id": "aeb6ba2b",
   "metadata": {},
   "source": [
    "### Sets\n",
    "\n",
    "For a comprehensive overview of sets, see: https://docs.python.org/3/tutorial/datastructures.html#sets\n",
    "\n",
    "Sets are to be understood as in mathematics, i.e. an unordered collection of items without duplicates."
   ]
  },
  {
   "cell_type": "code",
   "execution_count": 30,
   "id": "7c9a1b5b",
   "metadata": {},
   "outputs": [
    {
     "name": "stdout",
     "output_type": "stream",
     "text": [
      "{1, 2, 3}\n"
     ]
    }
   ],
   "source": [
    "# Syntax\n",
    "mySet = {1, 2, 3}\n",
    "print(mySet)"
   ]
  },
  {
   "cell_type": "code",
   "execution_count": 31,
   "id": "f350cefa",
   "metadata": {},
   "outputs": [
    {
     "name": "stdout",
     "output_type": "stream",
     "text": [
      "<class 'set'>\n"
     ]
    }
   ],
   "source": [
    "print(type(mySet))"
   ]
  },
  {
   "cell_type": "code",
   "execution_count": 32,
   "id": "e3e69f69",
   "metadata": {},
   "outputs": [
    {
     "name": "stdout",
     "output_type": "stream",
     "text": [
      "3\n"
     ]
    }
   ],
   "source": [
    "# Size of set\n",
    "print(len(mySet))"
   ]
  },
  {
   "cell_type": "code",
   "execution_count": 33,
   "id": "09b7dab0",
   "metadata": {},
   "outputs": [
    {
     "name": "stdout",
     "output_type": "stream",
     "text": [
      "True\n"
     ]
    }
   ],
   "source": [
    "# We can check for membership in a set (this also works for lists)\n",
    "print(1 in mySet)"
   ]
  },
  {
   "cell_type": "code",
   "execution_count": 34,
   "id": "5482a54a",
   "metadata": {},
   "outputs": [
    {
     "name": "stdout",
     "output_type": "stream",
     "text": [
      "{'a', 'b', 'c'}\n"
     ]
    }
   ],
   "source": [
    "# We can also define a set like this\n",
    "mySet = set('aaaaaaaaabbbbbbbbbbbcc')\n",
    "print(mySet)"
   ]
  },
  {
   "cell_type": "code",
   "execution_count": 35,
   "id": "580b0651",
   "metadata": {},
   "outputs": [
    {
     "name": "stdout",
     "output_type": "stream",
     "text": [
      "Union of setA and setB: {1, 2, 3, 4, 5}\n",
      "Intersection of setA and setB: {3}\n"
     ]
    }
   ],
   "source": [
    "# Some common set operations\n",
    "setA = set([1, 2, 3])\n",
    "setB = set([3, 4, 5])\n",
    "\n",
    "# Union\n",
    "unionAB = setA | setB\n",
    "print('Union of setA and setB:', unionAB)\n",
    "\n",
    "# Intersection\n",
    "interAB = setA & setB\n",
    "print('Intersection of setA and setB:', interAB)"
   ]
  },
  {
   "cell_type": "markdown",
   "id": "2c40e11c",
   "metadata": {},
   "source": [
    "## Functions and flow of control\n",
    "\n",
    "All function definitions start with `def`, then a space and the name of the function followed by `()`. Inside the brackets you can specify the input `arguments`. The function body starts after `:`."
   ]
  },
  {
   "cell_type": "code",
   "execution_count": 36,
   "id": "c92c4343",
   "metadata": {},
   "outputs": [
    {
     "name": "stdout",
     "output_type": "stream",
     "text": [
      "<class 'function'>\n",
      "25\n"
     ]
    }
   ],
   "source": [
    "# Basic syntax of any function\n",
    "def myFunc(x):\n",
    "    \"\"\"\n",
    "    This function takes as an argument a number and returns its square.\n",
    "    \"\"\"\n",
    "    \n",
    "    return x ** 2\n",
    "\n",
    "print(type(myFunc))\n",
    "print(myFunc(5))"
   ]
  },
  {
   "cell_type": "markdown",
   "id": "1b9bb5c6",
   "metadata": {},
   "source": [
    "In the two print statements above there is an important difference. In the first statement, `myFunc` is not followed by `()` and is hence not called. When we write `myFunc()` we actually call (or execute) the function (body)."
   ]
  },
  {
   "cell_type": "code",
   "execution_count": 37,
   "id": "a19d2276",
   "metadata": {},
   "outputs": [
    {
     "ename": "TypeError",
     "evalue": "myFunc() missing 1 required positional argument: 'x'",
     "output_type": "error",
     "traceback": [
      "\u001b[1;31m---------------------------------------------------------------------------\u001b[0m",
      "\u001b[1;31mTypeError\u001b[0m                                 Traceback (most recent call last)",
      "\u001b[1;32m~\\AppData\\Local\\Temp\\ipykernel_19912\\2684460433.py\u001b[0m in \u001b[0;36m<module>\u001b[1;34m\u001b[0m\n\u001b[1;32m----> 1\u001b[1;33m \u001b[0mmyFunc\u001b[0m\u001b[1;33m(\u001b[0m\u001b[1;33m)\u001b[0m\u001b[1;33m\u001b[0m\u001b[1;33m\u001b[0m\u001b[0m\n\u001b[0m",
      "\u001b[1;31mTypeError\u001b[0m: myFunc() missing 1 required positional argument: 'x'"
     ]
    }
   ],
   "source": [
    "myFunc()"
   ]
  },
  {
   "cell_type": "markdown",
   "id": "e661bf0a",
   "metadata": {},
   "source": [
    "Note how calling `myFunc` without an argument results in an error. The reason for this can be found in the way we defined the function; we require one positional argument when we call the function.\n",
    "\n",
    "Positional arguments must be passed in the correct order (hence the word positional)."
   ]
  },
  {
   "cell_type": "markdown",
   "id": "71f6933e",
   "metadata": {},
   "source": [
    "#### Positional arguments"
   ]
  },
  {
   "cell_type": "code",
   "execution_count": 38,
   "id": "ba1b8e90",
   "metadata": {},
   "outputs": [
    {
     "name": "stdout",
     "output_type": "stream",
     "text": [
      "Hi my name is Alice and I'm 23 years old.\n",
      "Hi my name is 23 and I'm Alice years old.\n"
     ]
    }
   ],
   "source": [
    "def info(name, age):\n",
    "    print('Hi my name is {} and I\\'m {} years old.'.format(name, age))\n",
    "    \n",
    "          \n",
    "info('Alice', 23)\n",
    "info(23, 'Alice') # The ordering of the input arguments does not make sense here."
   ]
  },
  {
   "cell_type": "markdown",
   "id": "a9a76e02",
   "metadata": {},
   "source": [
    "#### Keyword arguments\n",
    "\n",
    "When we call a function and pass input arguments, we can reference them by the respective keyword of the function. If we do this, the order of inputs does not matter."
   ]
  },
  {
   "cell_type": "code",
   "execution_count": 39,
   "id": "4f4a7a13",
   "metadata": {},
   "outputs": [
    {
     "name": "stdout",
     "output_type": "stream",
     "text": [
      "Hi my name is Alice and I'm 23 years old.\n",
      "Hi my name is Alice and I'm 23 years old.\n"
     ]
    }
   ],
   "source": [
    "info(name='Alice', age=23)\n",
    "info(age=23, name='Alice') # The ordering of the input arguments does not matter here."
   ]
  },
  {
   "cell_type": "markdown",
   "id": "9a3a6ef9",
   "metadata": {},
   "source": [
    "Generally speaking, we want a function to end with a `return` statement that can be assigned to a variable or used for further computation. For example, we can assign the output of the `square` function to a variable."
   ]
  },
  {
   "cell_type": "code",
   "execution_count": 40,
   "id": "0bcbab1f",
   "metadata": {},
   "outputs": [
    {
     "name": "stdout",
     "output_type": "stream",
     "text": [
      "625\n"
     ]
    }
   ],
   "source": [
    "def square(x):\n",
    "    return x**2\n",
    "\n",
    "x = square(25)\n",
    "print(x)"
   ]
  },
  {
   "cell_type": "markdown",
   "id": "c8950463",
   "metadata": {},
   "source": [
    "#### Lambda functions\n",
    "There is another kind of function in Python called `lambda` function which are typically used if we want to call the function only once and not use it again. You can think of it as a \"throwaway\" function. It has special syntax and might look something like this:"
   ]
  },
  {
   "cell_type": "code",
   "execution_count": 41,
   "id": "0e075a95",
   "metadata": {},
   "outputs": [
    {
     "data": {
      "text/plain": [
       "4"
      ]
     },
     "execution_count": 41,
     "metadata": {},
     "output_type": "execute_result"
    }
   ],
   "source": [
    "x = lambda a, b: a + b\n",
    "x(2, 2)"
   ]
  },
  {
   "cell_type": "markdown",
   "id": "f7c5a0f0",
   "metadata": {},
   "source": [
    "#### Flow of control"
   ]
  },
  {
   "cell_type": "code",
   "execution_count": 42,
   "id": "0f8014fd",
   "metadata": {},
   "outputs": [
    {
     "name": "stdout",
     "output_type": "stream",
     "text": [
      "False\n",
      "True\n"
     ]
    }
   ],
   "source": [
    "def isEven(x):\n",
    "    \"\"\"\n",
    "    This function takes as an argument a number and returns True if it is even. Otherwise, return False.\n",
    "    \"\"\"\n",
    "    if x % 2 == 0: # if condition followed by colon\n",
    "        return True\n",
    "    else:          # else condition followed by colon\n",
    "        return False\n",
    "    \n",
    "print(isEven(5))\n",
    "print(isEven(2752))"
   ]
  },
  {
   "cell_type": "markdown",
   "id": "0d2ae0ab",
   "metadata": {},
   "source": [
    "#### Loops\n",
    "\n",
    "We will look at two types of loops: `for` and `while` loops."
   ]
  },
  {
   "cell_type": "code",
   "execution_count": 43,
   "id": "9416fb89",
   "metadata": {},
   "outputs": [
    {
     "name": "stdout",
     "output_type": "stream",
     "text": [
      "1\n",
      "2\n",
      "3\n",
      "4\n",
      "5\n"
     ]
    }
   ],
   "source": [
    "# We can also loop over lists\n",
    "myList = [1, 2, 3, 4, 5]\n",
    "\n",
    "for i in myList:\n",
    "    print(i)"
   ]
  },
  {
   "cell_type": "code",
   "execution_count": 44,
   "id": "9b7658ef",
   "metadata": {},
   "outputs": [
    {
     "name": "stdout",
     "output_type": "stream",
     "text": [
      "a\n",
      "l\n",
      "p\n",
      "h\n",
      "a\n",
      "b\n",
      "e\n",
      "t\n"
     ]
    }
   ],
   "source": [
    "# Loop over strings\n",
    "for letter in 'alphabet':\n",
    "    print(letter)"
   ]
  },
  {
   "cell_type": "code",
   "execution_count": 45,
   "id": "7ae81d9f",
   "metadata": {},
   "outputs": [
    {
     "name": "stdout",
     "output_type": "stream",
     "text": [
      "0\n",
      "1\n",
      "2\n",
      "3\n",
      "4\n",
      "5\n",
      "6\n",
      "7\n",
      "8\n",
      "9\n"
     ]
    }
   ],
   "source": [
    "# We can even loop over objects of class range\n",
    "for i in range(10): # for loops need an iterable object to loop over. In this case we used a object of class range.\n",
    "    print(i)"
   ]
  },
  {
   "cell_type": "code",
   "execution_count": 46,
   "id": "3583f834",
   "metadata": {},
   "outputs": [
    {
     "name": "stdout",
     "output_type": "stream",
     "text": [
      "0\n",
      "1\n",
      "2\n",
      "3\n",
      "4\n",
      "5\n",
      "6\n",
      "7\n",
      "8\n",
      "9\n"
     ]
    }
   ],
   "source": [
    "# The logic of while loops is exactly the same as in any other programming language.\n",
    "# Initialize a variable\n",
    "i = 0\n",
    "\n",
    "# Run while loop with a condition on that variable.\n",
    "while i < 10:\n",
    "    print(i)\n",
    "    \n",
    "    # Don't forget to increment, otherwise you're gonna be looping forever.\n",
    "    i += 1"
   ]
  },
  {
   "cell_type": "markdown",
   "id": "a7c5385a",
   "metadata": {},
   "source": [
    "## Libraries \n",
    "\n",
    "... with a quick intro to pandas:\n",
    "\n",
    "\n",
    "`pandas` is a Python library for data analysis. According to its website, `pandas` is a fast, powerful, flexible and easy to use open source data analysis and manipulation tool, built on top of the Python programming language.\n",
    "\n",
    "\n",
    "For more information see: https://pandas.pydata.org/"
   ]
  },
  {
   "cell_type": "code",
   "execution_count": 47,
   "id": "a73823ef",
   "metadata": {},
   "outputs": [
    {
     "name": "stdout",
     "output_type": "stream",
     "text": [
      "<class 'pandas.core.series.Series'>\n",
      "\n",
      "0    0.228291\n",
      "1    1.136450\n",
      "2    0.279256\n",
      "3    1.011157\n",
      "4   -1.358596\n",
      "dtype: float64\n"
     ]
    }
   ],
   "source": [
    "# Let's import the pandas library. The convention is to abbreviate it as 'pd'\n",
    "import numpy as np\n",
    "import pandas as pd\n",
    "\n",
    "# The basic data type in pandas is a pd.Series, which you can think of as a column of your data\n",
    "# Let's create a random pd.Series using numpy\n",
    "s = pd.Series(np.random.randn(5))\n",
    "print(type(s))\n",
    "print() # Just an empty line for readability.\n",
    "print(s)"
   ]
  },
  {
   "cell_type": "code",
   "execution_count": 48,
   "id": "22685355",
   "metadata": {},
   "outputs": [
    {
     "name": "stdout",
     "output_type": "stream",
     "text": [
      "<class 'pandas.core.frame.DataFrame'>\n",
      "\n"
     ]
    },
    {
     "data": {
      "text/html": [
       "<div>\n",
       "<style scoped>\n",
       "    .dataframe tbody tr th:only-of-type {\n",
       "        vertical-align: middle;\n",
       "    }\n",
       "\n",
       "    .dataframe tbody tr th {\n",
       "        vertical-align: top;\n",
       "    }\n",
       "\n",
       "    .dataframe thead th {\n",
       "        text-align: right;\n",
       "    }\n",
       "</style>\n",
       "<table border=\"1\" class=\"dataframe\">\n",
       "  <thead>\n",
       "    <tr style=\"text-align: right;\">\n",
       "      <th></th>\n",
       "      <th>A</th>\n",
       "      <th>B</th>\n",
       "      <th>C</th>\n",
       "    </tr>\n",
       "  </thead>\n",
       "  <tbody>\n",
       "    <tr>\n",
       "      <th>0</th>\n",
       "      <td>0.862264</td>\n",
       "      <td>-0.170046</td>\n",
       "      <td>0.318093</td>\n",
       "    </tr>\n",
       "    <tr>\n",
       "      <th>1</th>\n",
       "      <td>-2.335957</td>\n",
       "      <td>-0.237772</td>\n",
       "      <td>0.248127</td>\n",
       "    </tr>\n",
       "    <tr>\n",
       "      <th>2</th>\n",
       "      <td>0.979431</td>\n",
       "      <td>-1.035180</td>\n",
       "      <td>-0.655302</td>\n",
       "    </tr>\n",
       "    <tr>\n",
       "      <th>3</th>\n",
       "      <td>0.479571</td>\n",
       "      <td>0.977065</td>\n",
       "      <td>-0.193259</td>\n",
       "    </tr>\n",
       "    <tr>\n",
       "      <th>4</th>\n",
       "      <td>1.604413</td>\n",
       "      <td>1.148836</td>\n",
       "      <td>-1.011270</td>\n",
       "    </tr>\n",
       "  </tbody>\n",
       "</table>\n",
       "</div>"
      ],
      "text/plain": [
       "          A         B         C\n",
       "0  0.862264 -0.170046  0.318093\n",
       "1 -2.335957 -0.237772  0.248127\n",
       "2  0.979431 -1.035180 -0.655302\n",
       "3  0.479571  0.977065 -0.193259\n",
       "4  1.604413  1.148836 -1.011270"
      ]
     },
     "execution_count": 48,
     "metadata": {},
     "output_type": "execute_result"
    }
   ],
   "source": [
    "# Commonly we will work with multiple variables. These are organized in a pd.DataFrame.\n",
    "# Each DataFrame has an index (both for rows and cols). Let's create a pd.DataFrame.\n",
    "df = pd.DataFrame(np.random.randn(8, 3), columns=[\"A\", \"B\", \"C\"])\n",
    "\n",
    "print(type(df))\n",
    "print() # Just an empty line for readability.\n",
    "\n",
    "# Let's check out what this looks like\n",
    "df.head()"
   ]
  },
  {
   "cell_type": "code",
   "execution_count": 49,
   "id": "e1872b9d",
   "metadata": {},
   "outputs": [
    {
     "name": "stdout",
     "output_type": "stream",
     "text": [
      "[*********************100%***********************]  1 of 1 completed\n",
      "<class 'pandas.core.frame.DataFrame'>\n"
     ]
    }
   ],
   "source": [
    "# Let's use actual data rather some randomly generated numbers.\n",
    "# We can get some data on stock prices using the package fastquant.\n",
    "# We want to import only one function from fastquant\n",
    "import yfinance as yf\n",
    "\n",
    "# Grab time-series data for GameStop ($GME)\n",
    "df = yf.download('AAPL', start='2018-01-01', end='2022-02-28')\n",
    "\n",
    "print(type(df))"
   ]
  },
  {
   "cell_type": "code",
   "execution_count": 50,
   "id": "c9920660",
   "metadata": {},
   "outputs": [
    {
     "data": {
      "text/html": [
       "<div>\n",
       "<style scoped>\n",
       "    .dataframe tbody tr th:only-of-type {\n",
       "        vertical-align: middle;\n",
       "    }\n",
       "\n",
       "    .dataframe tbody tr th {\n",
       "        vertical-align: top;\n",
       "    }\n",
       "\n",
       "    .dataframe thead th {\n",
       "        text-align: right;\n",
       "    }\n",
       "</style>\n",
       "<table border=\"1\" class=\"dataframe\">\n",
       "  <thead>\n",
       "    <tr style=\"text-align: right;\">\n",
       "      <th></th>\n",
       "      <th>Open</th>\n",
       "      <th>High</th>\n",
       "      <th>Low</th>\n",
       "      <th>Close</th>\n",
       "      <th>Adj Close</th>\n",
       "      <th>Volume</th>\n",
       "    </tr>\n",
       "    <tr>\n",
       "      <th>Date</th>\n",
       "      <th></th>\n",
       "      <th></th>\n",
       "      <th></th>\n",
       "      <th></th>\n",
       "      <th></th>\n",
       "      <th></th>\n",
       "    </tr>\n",
       "  </thead>\n",
       "  <tbody>\n",
       "    <tr>\n",
       "      <th>2018-01-02</th>\n",
       "      <td>42.540001</td>\n",
       "      <td>43.075001</td>\n",
       "      <td>42.314999</td>\n",
       "      <td>43.064999</td>\n",
       "      <td>40.670975</td>\n",
       "      <td>102223600</td>\n",
       "    </tr>\n",
       "    <tr>\n",
       "      <th>2018-01-03</th>\n",
       "      <td>43.132500</td>\n",
       "      <td>43.637501</td>\n",
       "      <td>42.990002</td>\n",
       "      <td>43.057499</td>\n",
       "      <td>40.663883</td>\n",
       "      <td>118071600</td>\n",
       "    </tr>\n",
       "    <tr>\n",
       "      <th>2018-01-04</th>\n",
       "      <td>43.134998</td>\n",
       "      <td>43.367500</td>\n",
       "      <td>43.020000</td>\n",
       "      <td>43.257500</td>\n",
       "      <td>40.852779</td>\n",
       "      <td>89738400</td>\n",
       "    </tr>\n",
       "    <tr>\n",
       "      <th>2018-01-05</th>\n",
       "      <td>43.360001</td>\n",
       "      <td>43.842499</td>\n",
       "      <td>43.262501</td>\n",
       "      <td>43.750000</td>\n",
       "      <td>41.317909</td>\n",
       "      <td>94640000</td>\n",
       "    </tr>\n",
       "    <tr>\n",
       "      <th>2018-01-08</th>\n",
       "      <td>43.587502</td>\n",
       "      <td>43.902500</td>\n",
       "      <td>43.482498</td>\n",
       "      <td>43.587502</td>\n",
       "      <td>41.164433</td>\n",
       "      <td>82271200</td>\n",
       "    </tr>\n",
       "  </tbody>\n",
       "</table>\n",
       "</div>"
      ],
      "text/plain": [
       "                 Open       High        Low      Close  Adj Close     Volume\n",
       "Date                                                                        \n",
       "2018-01-02  42.540001  43.075001  42.314999  43.064999  40.670975  102223600\n",
       "2018-01-03  43.132500  43.637501  42.990002  43.057499  40.663883  118071600\n",
       "2018-01-04  43.134998  43.367500  43.020000  43.257500  40.852779   89738400\n",
       "2018-01-05  43.360001  43.842499  43.262501  43.750000  41.317909   94640000\n",
       "2018-01-08  43.587502  43.902500  43.482498  43.587502  41.164433   82271200"
      ]
     },
     "execution_count": 50,
     "metadata": {},
     "output_type": "execute_result"
    }
   ],
   "source": [
    "# Inspect\n",
    "df.head()"
   ]
  },
  {
   "cell_type": "code",
   "execution_count": 51,
   "id": "e1ec0072",
   "metadata": {},
   "outputs": [
    {
     "data": {
      "text/html": [
       "<div>\n",
       "<style scoped>\n",
       "    .dataframe tbody tr th:only-of-type {\n",
       "        vertical-align: middle;\n",
       "    }\n",
       "\n",
       "    .dataframe tbody tr th {\n",
       "        vertical-align: top;\n",
       "    }\n",
       "\n",
       "    .dataframe thead th {\n",
       "        text-align: right;\n",
       "    }\n",
       "</style>\n",
       "<table border=\"1\" class=\"dataframe\">\n",
       "  <thead>\n",
       "    <tr style=\"text-align: right;\">\n",
       "      <th></th>\n",
       "      <th>Open</th>\n",
       "      <th>High</th>\n",
       "      <th>Low</th>\n",
       "      <th>Close</th>\n",
       "      <th>Adj Close</th>\n",
       "      <th>Volume</th>\n",
       "    </tr>\n",
       "    <tr>\n",
       "      <th>Date</th>\n",
       "      <th></th>\n",
       "      <th></th>\n",
       "      <th></th>\n",
       "      <th></th>\n",
       "      <th></th>\n",
       "      <th></th>\n",
       "    </tr>\n",
       "  </thead>\n",
       "  <tbody>\n",
       "    <tr>\n",
       "      <th>2018-01-02</th>\n",
       "      <td>42.540001</td>\n",
       "      <td>43.075001</td>\n",
       "      <td>42.314999</td>\n",
       "      <td>43.064999</td>\n",
       "      <td>40.670975</td>\n",
       "      <td>102223600</td>\n",
       "    </tr>\n",
       "    <tr>\n",
       "      <th>2018-01-03</th>\n",
       "      <td>43.132500</td>\n",
       "      <td>43.637501</td>\n",
       "      <td>42.990002</td>\n",
       "      <td>43.057499</td>\n",
       "      <td>40.663883</td>\n",
       "      <td>118071600</td>\n",
       "    </tr>\n",
       "    <tr>\n",
       "      <th>2018-01-04</th>\n",
       "      <td>43.134998</td>\n",
       "      <td>43.367500</td>\n",
       "      <td>43.020000</td>\n",
       "      <td>43.257500</td>\n",
       "      <td>40.852779</td>\n",
       "      <td>89738400</td>\n",
       "    </tr>\n",
       "    <tr>\n",
       "      <th>2018-01-05</th>\n",
       "      <td>43.360001</td>\n",
       "      <td>43.842499</td>\n",
       "      <td>43.262501</td>\n",
       "      <td>43.750000</td>\n",
       "      <td>41.317909</td>\n",
       "      <td>94640000</td>\n",
       "    </tr>\n",
       "    <tr>\n",
       "      <th>2018-01-08</th>\n",
       "      <td>43.587502</td>\n",
       "      <td>43.902500</td>\n",
       "      <td>43.482498</td>\n",
       "      <td>43.587502</td>\n",
       "      <td>41.164433</td>\n",
       "      <td>82271200</td>\n",
       "    </tr>\n",
       "    <tr>\n",
       "      <th>2018-01-09</th>\n",
       "      <td>43.637501</td>\n",
       "      <td>43.764999</td>\n",
       "      <td>43.352501</td>\n",
       "      <td>43.582500</td>\n",
       "      <td>41.159714</td>\n",
       "      <td>86336000</td>\n",
       "    </tr>\n",
       "    <tr>\n",
       "      <th>2018-01-10</th>\n",
       "      <td>43.290001</td>\n",
       "      <td>43.575001</td>\n",
       "      <td>43.250000</td>\n",
       "      <td>43.572498</td>\n",
       "      <td>41.150265</td>\n",
       "      <td>95839600</td>\n",
       "    </tr>\n",
       "    <tr>\n",
       "      <th>2018-01-11</th>\n",
       "      <td>43.647499</td>\n",
       "      <td>43.872501</td>\n",
       "      <td>43.622501</td>\n",
       "      <td>43.820000</td>\n",
       "      <td>41.384007</td>\n",
       "      <td>74670800</td>\n",
       "    </tr>\n",
       "    <tr>\n",
       "      <th>2018-01-12</th>\n",
       "      <td>44.044998</td>\n",
       "      <td>44.340000</td>\n",
       "      <td>43.912498</td>\n",
       "      <td>44.272499</td>\n",
       "      <td>41.811344</td>\n",
       "      <td>101672400</td>\n",
       "    </tr>\n",
       "    <tr>\n",
       "      <th>2018-01-16</th>\n",
       "      <td>44.474998</td>\n",
       "      <td>44.847500</td>\n",
       "      <td>44.035000</td>\n",
       "      <td>44.047501</td>\n",
       "      <td>41.598858</td>\n",
       "      <td>118263600</td>\n",
       "    </tr>\n",
       "  </tbody>\n",
       "</table>\n",
       "</div>"
      ],
      "text/plain": [
       "                 Open       High        Low      Close  Adj Close     Volume\n",
       "Date                                                                        \n",
       "2018-01-02  42.540001  43.075001  42.314999  43.064999  40.670975  102223600\n",
       "2018-01-03  43.132500  43.637501  42.990002  43.057499  40.663883  118071600\n",
       "2018-01-04  43.134998  43.367500  43.020000  43.257500  40.852779   89738400\n",
       "2018-01-05  43.360001  43.842499  43.262501  43.750000  41.317909   94640000\n",
       "2018-01-08  43.587502  43.902500  43.482498  43.587502  41.164433   82271200\n",
       "2018-01-09  43.637501  43.764999  43.352501  43.582500  41.159714   86336000\n",
       "2018-01-10  43.290001  43.575001  43.250000  43.572498  41.150265   95839600\n",
       "2018-01-11  43.647499  43.872501  43.622501  43.820000  41.384007   74670800\n",
       "2018-01-12  44.044998  44.340000  43.912498  44.272499  41.811344  101672400\n",
       "2018-01-16  44.474998  44.847500  44.035000  44.047501  41.598858  118263600"
      ]
     },
     "execution_count": 51,
     "metadata": {},
     "output_type": "execute_result"
    }
   ],
   "source": [
    "# We can slice rows\n",
    "df[0:10] # by row number"
   ]
  },
  {
   "cell_type": "code",
   "execution_count": 52,
   "id": "451be5ff",
   "metadata": {},
   "outputs": [
    {
     "name": "stdout",
     "output_type": "stream",
     "text": [
      "(1046, 6)\n",
      "Our dataframe has 1046 rows and 6 columns.\n"
     ]
    }
   ],
   "source": [
    "# Check out dimensions\n",
    "print(df.shape)\n",
    "print(f'Our dataframe has {df.shape[0]} rows and {df.shape[1]} columns.')"
   ]
  },
  {
   "cell_type": "code",
   "execution_count": 53,
   "id": "6e12a432",
   "metadata": {},
   "outputs": [
    {
     "data": {
      "text/plain": [
       "Date\n",
       "2018-01-02    1.017961\n",
       "2018-01-03    1.015062\n",
       "2018-01-04    1.008078\n",
       "2018-01-05    1.013406\n",
       "2018-01-08    1.009659\n",
       "Name: ratio_high_low, dtype: float64"
      ]
     },
     "execution_count": 53,
     "metadata": {},
     "output_type": "execute_result"
    }
   ],
   "source": [
    "# We can add a column\n",
    "df['ratio_high_low'] = df.High / df.Low\n",
    "df.ratio_high_low.head()"
   ]
  },
  {
   "cell_type": "code",
   "execution_count": 54,
   "id": "735fcf49",
   "metadata": {},
   "outputs": [
    {
     "data": {
      "text/html": [
       "<div>\n",
       "<style scoped>\n",
       "    .dataframe tbody tr th:only-of-type {\n",
       "        vertical-align: middle;\n",
       "    }\n",
       "\n",
       "    .dataframe tbody tr th {\n",
       "        vertical-align: top;\n",
       "    }\n",
       "\n",
       "    .dataframe thead th {\n",
       "        text-align: right;\n",
       "    }\n",
       "</style>\n",
       "<table border=\"1\" class=\"dataframe\">\n",
       "  <thead>\n",
       "    <tr style=\"text-align: right;\">\n",
       "      <th></th>\n",
       "      <th>Open</th>\n",
       "      <th>High</th>\n",
       "      <th>Low</th>\n",
       "      <th>Close</th>\n",
       "      <th>Adj Close</th>\n",
       "      <th>Volume</th>\n",
       "      <th>ratio_high_low</th>\n",
       "      <th>log_close</th>\n",
       "    </tr>\n",
       "    <tr>\n",
       "      <th>Date</th>\n",
       "      <th></th>\n",
       "      <th></th>\n",
       "      <th></th>\n",
       "      <th></th>\n",
       "      <th></th>\n",
       "      <th></th>\n",
       "      <th></th>\n",
       "      <th></th>\n",
       "    </tr>\n",
       "  </thead>\n",
       "  <tbody>\n",
       "    <tr>\n",
       "      <th>2018-01-02</th>\n",
       "      <td>42.540001</td>\n",
       "      <td>43.075001</td>\n",
       "      <td>42.314999</td>\n",
       "      <td>43.064999</td>\n",
       "      <td>40.670975</td>\n",
       "      <td>102223600</td>\n",
       "      <td>1.017961</td>\n",
       "      <td>3.762711</td>\n",
       "    </tr>\n",
       "    <tr>\n",
       "      <th>2018-01-03</th>\n",
       "      <td>43.132500</td>\n",
       "      <td>43.637501</td>\n",
       "      <td>42.990002</td>\n",
       "      <td>43.057499</td>\n",
       "      <td>40.663883</td>\n",
       "      <td>118071600</td>\n",
       "      <td>1.015062</td>\n",
       "      <td>3.762536</td>\n",
       "    </tr>\n",
       "    <tr>\n",
       "      <th>2018-01-04</th>\n",
       "      <td>43.134998</td>\n",
       "      <td>43.367500</td>\n",
       "      <td>43.020000</td>\n",
       "      <td>43.257500</td>\n",
       "      <td>40.852779</td>\n",
       "      <td>89738400</td>\n",
       "      <td>1.008078</td>\n",
       "      <td>3.767171</td>\n",
       "    </tr>\n",
       "    <tr>\n",
       "      <th>2018-01-05</th>\n",
       "      <td>43.360001</td>\n",
       "      <td>43.842499</td>\n",
       "      <td>43.262501</td>\n",
       "      <td>43.750000</td>\n",
       "      <td>41.317909</td>\n",
       "      <td>94640000</td>\n",
       "      <td>1.013406</td>\n",
       "      <td>3.778492</td>\n",
       "    </tr>\n",
       "    <tr>\n",
       "      <th>2018-01-08</th>\n",
       "      <td>43.587502</td>\n",
       "      <td>43.902500</td>\n",
       "      <td>43.482498</td>\n",
       "      <td>43.587502</td>\n",
       "      <td>41.164433</td>\n",
       "      <td>82271200</td>\n",
       "      <td>1.009659</td>\n",
       "      <td>3.774770</td>\n",
       "    </tr>\n",
       "  </tbody>\n",
       "</table>\n",
       "</div>"
      ],
      "text/plain": [
       "                 Open       High        Low      Close  Adj Close     Volume  \\\n",
       "Date                                                                           \n",
       "2018-01-02  42.540001  43.075001  42.314999  43.064999  40.670975  102223600   \n",
       "2018-01-03  43.132500  43.637501  42.990002  43.057499  40.663883  118071600   \n",
       "2018-01-04  43.134998  43.367500  43.020000  43.257500  40.852779   89738400   \n",
       "2018-01-05  43.360001  43.842499  43.262501  43.750000  41.317909   94640000   \n",
       "2018-01-08  43.587502  43.902500  43.482498  43.587502  41.164433   82271200   \n",
       "\n",
       "            ratio_high_low  log_close  \n",
       "Date                                   \n",
       "2018-01-02        1.017961   3.762711  \n",
       "2018-01-03        1.015062   3.762536  \n",
       "2018-01-04        1.008078   3.767171  \n",
       "2018-01-05        1.013406   3.778492  \n",
       "2018-01-08        1.009659   3.774770  "
      ]
     },
     "execution_count": 54,
     "metadata": {},
     "output_type": "execute_result"
    }
   ],
   "source": [
    "# We can transform our data\n",
    "df['log_close'] = df['Close'].apply(np.log)\n",
    "df.head()"
   ]
  },
  {
   "cell_type": "code",
   "execution_count": 55,
   "id": "2f96277a",
   "metadata": {},
   "outputs": [
    {
     "data": {
      "text/plain": [
       "<Axes: xlabel='Date'>"
      ]
     },
     "execution_count": 55,
     "metadata": {},
     "output_type": "execute_result"
    },
    {
     "data": {
      "image/png": "[encoded data removed]",
      "text/plain": [
       "<Figure size 432x288 with 1 Axes>"
      ]
     },
     "metadata": {
      "needs_background": "light"
     },
     "output_type": "display_data"
    }
   ],
   "source": [
    "df.Close.plot()"
   ]
  }
 ],
 "metadata": {
  "kernelspec": {
   "display_name": "Python 3 (ipykernel)",
   "language": "python",
   "name": "python3"
  },
  "language_info": {
   "codemirror_mode": {
    "name": "ipython",
    "version": 3
   },
   "file_extension": ".py",
   "mimetype": "text/x-python",
   "name": "python",
   "nbconvert_exporter": "python",
   "pygments_lexer": "ipython3",
   "version": "3.8.5"
  }
 },
 "nbformat": 4,
 "nbformat_minor": 5
}
