{
 "cells": [
  {
   "cell_type": "markdown",
   "metadata": {
    "id": "gJyKFuErltd7"
   },
   "source": [
    "# From bag-of-words to term frequency-inverse document frequency"
   ]
  },
  {
   "cell_type": "code",
   "execution_count": null,
   "metadata": {
    "id": "sfRFQ-Mtltd_"
   },
   "outputs": [],
   "source": [
    "from collections import Counter\n",
    "# from matplotlib import pyplot as plt\n",
    "# from nlpia.loaders import clean_columns\n",
    "from nltk.tokenize import TreebankWordTokenizer\n",
    "\n",
    "import copy\n",
    "import pandas as pd"
   ]
  },
  {
   "cell_type": "code",
   "execution_count": null,
   "metadata": {
    "id": "ovwGnRzVlteD"
   },
   "outputs": [],
   "source": [
    "# you (might) need to install nlpia again\n",
    "# ! pip3 install nlpia"
   ]
  },
  {
   "cell_type": "markdown",
   "metadata": {
    "id": "S9eZl7XslteF"
   },
   "source": [
    "## The difference between a binary and a _counting_ BoW"
   ]
  },
  {
   "cell_type": "code",
   "execution_count": null,
   "metadata": {
    "colab": {
     "base_uri": "https://localhost:8080/"
    },
    "id": "u2o6gdfklteG",
    "outputId": "c4206f25-cc0a-42be-e02b-e3ae280fa133"
   },
   "outputs": [],
   "source": [
    "sentence = \"The faster Harry got to the store, the faster Harry, the faster, would get home.\"\n",
    "tokenizer = TreebankWordTokenizer()\n",
    "tokens = tokenizer.tokenize(sentence.lower())\n",
    "\n",
    "tokens"
   ]
  },
  {
   "cell_type": "code",
   "execution_count": null,
   "metadata": {
    "colab": {
     "base_uri": "https://localhost:8080/"
    },
    "id": "zAX5Oq_tlteG",
    "outputId": "4f2d1a54-2f89-432c-f1d7-b73348006f1e"
   },
   "outputs": [],
   "source": [
    "# Getting the vocabulary\n",
    "set(tokens)"
   ]
  },
  {
   "cell_type": "code",
   "execution_count": null,
   "metadata": {
    "colab": {
     "base_uri": "https://localhost:8080/"
    },
    "id": "wt2PiM0clteI",
    "outputId": "a5d7ba04-8f11-4fb3-a71e-0baa373b79c4"
   },
   "outputs": [],
   "source": [
    "# Counting the tokens in the sentence\n",
    "bag_of_words = Counter(tokens)\n",
    "bag_of_words"
   ]
  },
  {
   "cell_type": "code",
   "execution_count": null,
   "metadata": {
    "colab": {
     "base_uri": "https://localhost:8080/"
    },
    "id": "sQx5i40ulteJ",
    "outputId": "5e647346-3d05-4841-a71f-e4c6e487173c"
   },
   "outputs": [],
   "source": [
    "bag_of_words.most_common(4)"
   ]
  },
  {
   "cell_type": "markdown",
   "metadata": {
    "id": "qi_HhbdzlteL"
   },
   "source": [
    "Getting the term frequency (**tf**) for a specific word in a document"
   ]
  },
  {
   "cell_type": "code",
   "execution_count": null,
   "metadata": {
    "colab": {
     "base_uri": "https://localhost:8080/"
    },
    "id": "zC86GxlolteN",
    "outputId": "c9eff3b8-e8d2-4d09-c108-c064e10297bc"
   },
   "outputs": [],
   "source": [
    "times_harry_appears = bag_of_words['harry']\n",
    "num_unique_words = len(bag_of_words)         # what is this doing?\n",
    "\n",
    "print(\"Times harry appears:\", times_harry_appears)\n",
    "print(\"Size of the vocabulary:\", num_unique_words)"
   ]
  },
  {
   "cell_type": "markdown",
   "metadata": {
    "id": "r7JSce2klteO"
   },
   "source": [
    "Back to the slides"
   ]
  },
  {
   "cell_type": "markdown",
   "metadata": {
    "id": "arosnVL_lteO"
   },
   "source": [
    "### Normalising $tf$: dividing by the total number of words"
   ]
  },
  {
   "cell_type": "code",
   "execution_count": null,
   "metadata": {
    "colab": {
     "base_uri": "https://localhost:8080/"
    },
    "id": "ZOhtzam-lteO",
    "outputId": "b1723bcd-cef8-4215-e765-95b71be021f9"
   },
   "outputs": [],
   "source": [
    "tf = times_harry_appears / num_unique_words\n",
    "tf"
   ]
  },
  {
   "cell_type": "markdown",
   "metadata": {
    "id": "ZU_IcB3SlteP"
   },
   "source": [
    "**Note**: I have usually seen:\n",
    "\n",
    "$tf(w') = \\frac{freq(w')}{\\sum_W freq(w)}$\n",
    "\n",
    "(look at the denominator)\n",
    "\n",
    "That is, the sum of all the frequencies.\n",
    "I'm sticking to the book, which uses length of the vocabulary instead. With large vocabularies/collections, it should be roughly equivalent\n",
    "\n",
    "Back to the slides"
   ]
  },
  {
   "cell_type": "markdown",
   "metadata": {
    "id": "wUcxyTuglteP"
   },
   "source": [
    "## $tf$ on a slightly longer text"
   ]
  },
  {
   "cell_type": "code",
   "execution_count": null,
   "metadata": {
    "id": "FTJPt-b-lteP"
   },
   "outputs": [],
   "source": [
    "# Wikipedia article on COVID as in early 2022\n",
    "\n",
    "txt = \"\"\"An ongoing armed conflict between Israel and\n",
    "Palestinian militant groups led by Hamas began on 7 October\n",
    "2023, with a coordinated surprise offensive on Israel. The\n",
    "attack began with a rocket barrage of at least 3,000 rockets\n",
    "launched from the Hamas-controlled Gaza Strip against Israel.\n",
    "In parallel, approximately 2,500 Palestinian militants\n",
    "breached the Gaza–Israel barrier, attacking military bases\n",
    "and massacring civilians in neighboring Israeli communities.\n",
    "At least 1,400 Israelis were killed including 260 people who\n",
    "were massacred at a music festival. Unarmed civilian hostages\n",
    "and captured Israeli soldiers were taken to the Gaza Strip,\n",
    "including women and children. The surprise attack was met with\n",
    "Israeli retaliatory strikes, and Israel formally declared war\n",
    "on Hamas a day later.\n",
    "\n",
    "Israel began clearing Hamas forces from affected areas and\n",
    "conducting airstrikes in the Gaza Strip, which have killed\n",
    "2,339 Palestinians as of 15 October. The United Nations\n",
    "reported that around 1 million Palestinians, nearly half of\n",
    "the population of Gaza, have been internally displaced.\n",
    "Fears of a humanitarian crisis were heightened after Israel\n",
    "cut off food, water, electricity, and fuel supplies to Gaza,\n",
    "which had already been blockaded by both Egypt and Israel.\n",
    "Israel sent messages urging 1.1 million Gazans to evacuate the\n",
    "northern portion of Gaza, while Hamas called on residents to\n",
    "stay put in their homes and blocked roads leading south.\n",
    "\n",
    "There have been widespread deaths of civilians, and a panel of\n",
    "UN independent experts along with a number of human rights\n",
    "groups have accused both Hamas and Israel of committing war\n",
    "crimes during the conflict. At least forty-four countries have\n",
    "denounced Hamas and labeled its conduct as terrorism, while\n",
    "countries across the Middle East called for de-escalation and\n",
    "have attributed the root cause to Israel's decades-long\n",
    "occupation of the Palestinian territories. Iran threatened\n",
    "Israel to immediately stop the war on Gaza. A conflict was\n",
    "reported between militants in Lebanon, including Hezbollah,\n",
    "and Israeli forces on 8 and 9 October. The United States\n",
    "deployed two aircraft carrier battle groups to the Eastern\n",
    "Mediterranean, the United Kingdom declared it would send\n",
    "warships and aircraft, and Germany began supplying military\n",
    "aid to Israel.\n",
    "\"\"\"\n",
    "\n",
    "kk2 = \"\"\"The Russo-Ukrainian War is an ongoing war primarily\n",
    "involving Russia, pro-Russian forces, and Belarus on one side,\n",
    "and Ukraine and its international supporters on the other.\n",
    "Conflict began in February 2014 following the Revolution of\n",
    "Dignity, and focused on the status of Crimea and parts of the\n",
    "Donbas, internationally recognised as part of Ukraine. The\n",
    "conflict includes the Russian annexation of Crimea (2014),\n",
    "the war in Donbas (2014–present), naval incidents, cyberwarfare,\n",
    "and political tensions. Intentionally concealing its involvement,\n",
    "Russia gave military backing to separatists in the Donbas from\n",
    "2014 onwards. Having built up a large military presence on the\n",
    "border from late 2021, Russia launched a full-scale invasion of\n",
    "Ukraine on 24 February 2022, which is ongoing.\n",
    "\n",
    "Following the Euromaidan protests and a revolution resulting in\n",
    "the removal of pro-Russian President Viktor Yanukovych on 22\n",
    "February 2014, pro-Russian unrest erupted in parts of Ukraine.\n",
    "Russian soldiers without insignia took control of strategic\n",
    "positions and infrastructure in the Ukrainian territory of\n",
    "Crimea. Unmarked Russian troops seized the Crimean Parliament\n",
    "and Russia organized a widely-criticised referendum, whose\n",
    "outcome was for Crimea to join Russia. It then annexed Crimea.\n",
    "In April 2014, demonstrations by pro-Russian groups in the\n",
    "Donbas region of Ukraine escalated into a war between the\n",
    "Ukrainian military and Russian-backed separatists of the\n",
    "self-declared Donetsk and Luhansk republics.\n",
    "\n",
    "In August 2014, unmarked Russian military vehicles crossed the\n",
    "border into the Donetsk republic. An undeclared war began between\n",
    "Ukrainian forces and separatists intermingled with Russian troops,\n",
    "although Russia denied the presence of its troops in the Donbas.\n",
    "The war settled into a stalemate, with repeated failed attempts\n",
    "at ceasefire. In 2015, a package of agreements called Minsk II\n",
    "were signed by Russia and Ukraine, but a number of disputes\n",
    "prevented them from being fully implemented. By 2019, 7% of\n",
    "Ukraine's territory was classified by the Ukrainian government\n",
    "as temporarily occupied territories, while the Russian government\n",
    "had indirectly acknowledged the presence of its troops in Ukraine.\n",
    "\n",
    "In 2021 and early 2022, there was a major Russian military\n",
    "build-up around Ukraine's borders. NATO accused Russia of planning\n",
    "an invasion, which it denied. Russian President Vladimir Putin\n",
    "criticized the enlargement of NATO as a threat to his country and\n",
    "demanded Ukraine be barred from ever joining the military\n",
    "alliance. He also expressed Russian irredentist views, questioned\n",
    "Ukraine's right to exist, and stated Ukraine was wrongfully\n",
    "created by Soviet Russia. On 21 February 2022, Russia officially\n",
    "recognised the two self-proclaimed separatist states in the Donbas,\n",
    "and sent troops to the territories. Three days later, Russia\n",
    "invaded Ukraine after Putin announced a \"special military\n",
    "operation\". Much of the international community and organizations\n",
    "such as Amnesty International have condemned Russia for its actions\n",
    "in post-revolutionary Ukraine, accusing it of breaking\n",
    "international law and violating Ukrainian sovereignty. Many\n",
    "countries implemented economic sanctions against Russia, Russian\n",
    "individuals, or companies, especially after the 2022 invasion.\n",
    "\"\"\"\n",
    "\n",
    "kk = \"\"\"Coronavirus disease 2019 (COVID-19) is an infectious disease caused by\n",
    "severe acute respiratory syndrome coronavirus 2 (SARS coronavirus 2,\n",
    "or SARS-CoV-2), a virus closely related to the SARS virus. The disease\n",
    "was discovered and named during the 2019–20 coronavirus outbreak.\n",
    "Those affected may develop a fever, dry cough, fatigue, and shortness\n",
    "of breath. A sore throat, runny nose or sneezing is less common. While\n",
    "the majority of cases result in mild symptoms, some can progress to\n",
    "pneumonia and multi-organ failure.\n",
    "\n",
    "The infection is spread from one person to others via respiratory droplets\n",
    "produced from the airways, often during coughing or sneezing. Time from exposure\n",
    "to onset of symptoms is generally between 2 and 14 days, with an average of 5\n",
    "days. The standard method of diagnosis is by reverse transcription polymerase\n",
    "chain reaction (rRT-PCR) from a nasopharyngeal swab or sputum sample, with\n",
    "results within a few hours to 2 days. Antibody assays can also be used, using a\n",
    "blood serum sample, with results within a few days. The infection can also be\n",
    "diagnosed from a combination of symptoms, risk factors and a chest CT scan\n",
    "showing features of pneumonia.\n",
    "\n",
    "Correct handwashing technique, maintaining distance from people who are coughing\n",
    "and not touching one's face with unwashed hands are measures recommended to\n",
    "prevent the disease. It is also recommended to cover one's nose and mouth with a\n",
    "tissue or a bent elbow when coughing. Masks are also recommended for those who\n",
    "are taking care of someone with a suspected infection but not for the general\n",
    "public. There is no vaccine or specific antiviral treatment, with management\n",
    "involving treatment of symptoms, supportive care and experimental measures.\n",
    "The case fatality rate is estimated at between 1% and 3%.\n",
    "\n",
    "The World Health Organization (WHO) has declared the 2019–20 coronavirus\n",
    "outbreak a Public Health Emergency of International Concern (PHEIC). As of 7\n",
    "March 2020, evidence of local transmission of the disease has been found in\n",
    "multiple countries across all six WHO regions.\n",
    "\"\"\""
   ]
  },
  {
   "cell_type": "code",
   "execution_count": null,
   "metadata": {
    "colab": {
     "base_uri": "https://localhost:8080/"
    },
    "id": "Y8ha7-6zlteS",
    "outputId": "c8b906e2-ea2d-4187-9db5-e92f71677a08"
   },
   "outputs": [],
   "source": [
    "tokenizer = TreebankWordTokenizer()\n",
    "tokens = tokenizer.tokenize(txt.lower())\n",
    "token_counts = Counter(tokens)\n",
    "\n",
    "# display the most common tokens in the document\n",
    "token_counts.most_common(10)"
   ]
  },
  {
   "cell_type": "markdown",
   "metadata": {
    "id": "3EWFTPkElteS"
   },
   "source": [
    "Notice: the most frequent words are (almost) all **stopwords**"
   ]
  },
  {
   "cell_type": "code",
   "execution_count": null,
   "metadata": {
    "colab": {
     "base_uri": "https://localhost:8080/"
    },
    "id": "S6WPhXrplteS",
    "outputId": "e5a6e2ff-f0df-49ef-ce3b-b3d909e25bec"
   },
   "outputs": [],
   "source": [
    "# Run only the first time\n",
    "import nltk\n",
    "nltk.download('stopwords', quiet=True)"
   ]
  },
  {
   "cell_type": "code",
   "execution_count": null,
   "metadata": {
    "colab": {
     "base_uri": "https://localhost:8080/"
    },
    "id": "mcdWuX94lteT",
    "outputId": "faa11cc4-a2eb-418a-9a55-306ba4a7dc80"
   },
   "outputs": [],
   "source": [
    "stopwords = set(nltk.corpus.stopwords.words('english'))\n",
    "# pay attention to what is going on here (do we need to unfold it?)\n",
    "tokens = [x for x in tokens if x not in stopwords]\n",
    "counts = Counter(tokens)\n",
    "counts.most_common(10)"
   ]
  },
  {
   "cell_type": "markdown",
   "metadata": {
    "id": "Ssrq-xBilteT"
   },
   "source": [
    "**Homework**:\n",
    "\n",
    "1. Do the same exercise, but using spacy for the pre-processing\n",
    "2. Do the same exercise, but grab an article in Italian\n",
    "3. Play a bit with text _kk_\n",
    "3. Normalise these frequencies\n",
    "\n",
    "back to the slides"
   ]
  },
  {
   "cell_type": "markdown",
   "metadata": {
    "id": "hZk7di0FlteV"
   },
   "source": [
    "## Vectorising\n",
    "\n",
    "Not a **dictionary** of counts, but a **vector** of counts"
   ]
  },
  {
   "cell_type": "code",
   "execution_count": null,
   "metadata": {
    "colab": {
     "base_uri": "https://localhost:8080/"
    },
    "id": "81ZmXN1alteV",
    "outputId": "5ea9808a-9bcd-4d9b-c1b1-208d84c9f9c9"
   },
   "outputs": [],
   "source": [
    "document_vector = []\n",
    "doc_length = len(tokens)\n",
    "for key, value in counts.most_common():\n",
    "    document_vector.append(value / doc_length)\n",
    "\n",
    "document_vector"
   ]
  },
  {
   "cell_type": "code",
   "execution_count": null,
   "metadata": {
    "colab": {
     "base_uri": "https://localhost:8080/"
    },
    "id": "hhNgVIvnlteV",
    "outputId": "ae85b84e-cfd9-41ae-efc9-871e046b252a"
   },
   "outputs": [],
   "source": [
    "docs = [\"The faster Harry got to the store, the faster and faster Harry would get home.\"]\n",
    "docs.append(\"Harry is hairy and faster than Jill.\")\n",
    "docs.append(\"Jill is not as hairy as Harry.\")\n",
    "print(docs, \"\\n\")\n",
    "print(\"\\n\".join(docs))"
   ]
  },
  {
   "cell_type": "code",
   "execution_count": null,
   "metadata": {
    "colab": {
     "base_uri": "https://localhost:8080/"
    },
    "id": "V9KAdy8MlteW",
    "outputId": "c4578e98-20ad-452b-db5d-efc817a00616"
   },
   "outputs": [],
   "source": [
    "# Getting the full lexicon\n",
    "doc_tokens = []\n",
    "for doc in docs:\n",
    "    #doc_tokens += [sorted(tokenizer.tokenize(doc.lower()))]\n",
    "    doc_tokens.append(sorted(tokenizer.tokenize(doc.lower())))\n",
    "\n",
    "print(len(doc_tokens[0]))\n",
    "doc_tokens"
   ]
  },
  {
   "cell_type": "code",
   "execution_count": null,
   "metadata": {
    "colab": {
     "base_uri": "https://localhost:8080/"
    },
    "id": "Wl1VceGClteW",
    "outputId": "975d5ad8-a46c-4c9a-b047-ad1ad258419a"
   },
   "outputs": [],
   "source": [
    "# concatenating all lists into one\n",
    "all_doc_tokens = sum(doc_tokens, [])\n",
    "print(len(all_doc_tokens))\n",
    "all_doc_tokens"
   ]
  },
  {
   "cell_type": "code",
   "execution_count": null,
   "metadata": {
    "colab": {
     "base_uri": "https://localhost:8080/"
    },
    "id": "249XC4_-lteX",
    "outputId": "cbcefaea-21bc-4426-9f5c-88284d6d75b3"
   },
   "outputs": [],
   "source": [
    "lexicon = sorted(set(all_doc_tokens))\n",
    "print(len(lexicon))\n",
    "\n",
    "# Notice that usually we call \"the types\" to the lexicon (tokens vs types)\n",
    "lexicon"
   ]
  },
  {
   "cell_type": "markdown",
   "metadata": {
    "id": "qdLqIKwAlteX"
   },
   "source": [
    "So, it is clear now: our vectors must have 18 values\n",
    "\n",
    "Creating the initial zero vectors"
   ]
  },
  {
   "cell_type": "code",
   "execution_count": null,
   "metadata": {
    "colab": {
     "base_uri": "https://localhost:8080/"
    },
    "id": "pDNuWJmXlteX",
    "outputId": "4bb583dc-11f0-48ca-d475-878fa497c059"
   },
   "outputs": [],
   "source": [
    "from collections import OrderedDict\n",
    "\n",
    "# Creating a template dictionary with all zeros (\"base vector\")\n",
    "zero_vector = OrderedDict((token, 0) for token in lexicon)\n",
    "zero_vector"
   ]
  },
  {
   "cell_type": "code",
   "execution_count": null,
   "metadata": {
    "colab": {
     "base_uri": "https://localhost:8080/"
    },
    "id": "11oMxSK4lteX",
    "outputId": "b6e62505-0060-453c-c9d6-7d9023f080f2"
   },
   "outputs": [],
   "source": [
    "# 1. Make copies of the base vector\n",
    "# 2. Update the values of the vector for each document\n",
    "# 3. Store them in an array\n",
    "#\n",
    "# We use copy.copy to avoid reference copies and do independent copies\n",
    "\n",
    "doc_vectors = []\n",
    "for doc in docs:\n",
    "    vec = copy.copy(zero_vector)\n",
    "    tokens = tokenizer.tokenize(doc.lower())\n",
    "    token_counts = Counter(tokens)\n",
    "    for key, value in token_counts.items():\n",
    "        vec[key] = value / len(lexicon)\n",
    "    doc_vectors.append(vec)\n",
    "\n",
    "doc_vectors"
   ]
  },
  {
   "cell_type": "markdown",
   "metadata": {
    "id": "_JCfrgbVlteY"
   },
   "source": [
    "Back to the slides"
   ]
  },
  {
   "cell_type": "markdown",
   "metadata": {
    "id": "TC3mNd0elteY"
   },
   "source": [
    "## Cosine similarity to compare two vectors"
   ]
  },
  {
   "cell_type": "code",
   "execution_count": null,
   "metadata": {
    "id": "5oIJJ0itlteY"
   },
   "outputs": [],
   "source": [
    "import math\n",
    "\n",
    "def cosine_sim(vec1, vec2):\n",
    "    \"\"\"\n",
    "    cosine_sim computes the cosine similarity between two vectors\n",
    "    :param vec1: Dictionary with vector (Counter)\n",
    "    :param vec2: Dictionary with vector (Counter)\n",
    "    :return: cosine(vec1, vec2)\n",
    "    \"\"\"\n",
    "\n",
    "    #Convert our dictionaries into lists for easier matching\n",
    "    vec1 = [val for val in vec1.values()]\n",
    "    vec2 = [val for val in vec2.values()]\n",
    "\n",
    "    dot_prod = 0\n",
    "    for i, v in enumerate(vec1):\n",
    "        dot_prod += v * vec2[i]\n",
    "\n",
    "    mag_1 = math.sqrt(sum([x**2 for x in vec1]))\n",
    "    mag_2 = math.sqrt(sum([x**2 for x in vec2]))\n",
    "    # this parenthesis is important. Why?\n",
    "    return dot_prod / (mag_1 * mag_2)"
   ]
  },
  {
   "cell_type": "code",
   "execution_count": null,
   "metadata": {
    "colab": {
     "base_uri": "https://localhost:8080/"
    },
    "id": "F9HcSpBBlteZ",
    "outputId": "7b51803f-1f0e-420d-9be4-3dbe287c011b"
   },
   "outputs": [],
   "source": [
    "print(\"cosine(0, 1)=\", cosine_sim(doc_vectors[0], doc_vectors[1]))\n",
    "print(\"cosine(0, 2)=\", cosine_sim(doc_vectors[0], doc_vectors[2]))\n",
    "print(\"cosine(1, 2)=\", cosine_sim(doc_vectors[1], doc_vectors[2]))\n",
    "print(\"cosine(1, 1)=\", cosine_sim(doc_vectors[1], doc_vectors[1]))"
   ]
  },
  {
   "cell_type": "markdown",
   "metadata": {
    "id": "d69NonD4lteZ"
   },
   "source": [
    "**Homework**: what happens if vec1 and vec2 have different cardinalities? Be defensive and get sure to avoid that"
   ]
  },
  {
   "cell_type": "markdown",
   "metadata": {
    "id": "8Z2I4n8mlteZ"
   },
   "source": [
    "back to the slides"
   ]
  },
  {
   "cell_type": "markdown",
   "metadata": {
    "id": "ol-zPm5_lteZ"
   },
   "source": [
    "## Zipf's Law\n",
    "\n",
    "Let us play with the Brown corpus to see Zipf's law. The [Brown corpus](https://en.wikipedia.org/wiki/Brown_Corpus) is one of the classical corpora in English, with 1M+ words, and a good alternative for testing."
   ]
  },
  {
   "cell_type": "code",
   "execution_count": null,
   "metadata": {
    "colab": {
     "base_uri": "https://localhost:8080/"
    },
    "id": "JhM-MlUtlteZ",
    "outputId": "49e6553a-b12e-4cf6-9e90-3fc648e649ac"
   },
   "outputs": [],
   "source": [
    "# Run only the first time\n",
    "nltk.download('brown')"
   ]
  },
  {
   "cell_type": "code",
   "execution_count": null,
   "metadata": {
    "colab": {
     "base_uri": "https://localhost:8080/"
    },
    "id": "iDNKLnqSltea",
    "outputId": "cbca1e78-80ea-4218-bcf6-ee1f0a8ab1be"
   },
   "outputs": [],
   "source": [
    "from nltk.corpus import brown\n",
    "# tokens\n",
    "brown.words()[:10]"
   ]
  },
  {
   "cell_type": "code",
   "execution_count": null,
   "metadata": {
    "colab": {
     "base_uri": "https://localhost:8080/"
    },
    "id": "LLc6nVLfltea",
    "outputId": "51884bd8-ea3b-4fdd-a83b-8ac81634d7fa"
   },
   "outputs": [],
   "source": [
    "# Including part of speech\n",
    "brown.tagged_words()[:5]"
   ]
  },
  {
   "cell_type": "code",
   "execution_count": null,
   "metadata": {
    "colab": {
     "base_uri": "https://localhost:8080/"
    },
    "id": "p9e0WToMltea",
    "outputId": "e6f713d0-4fd5-4507-d04f-2fa89db5bb54"
   },
   "outputs": [],
   "source": [
    "# Size of the Brown corpus (number of tokens)\n",
    "len(brown.words())"
   ]
  },
  {
   "cell_type": "code",
   "execution_count": null,
   "metadata": {
    "colab": {
     "base_uri": "https://localhost:8080/"
    },
    "id": "ZBGkj6hylteb",
    "outputId": "fc7ca61f-b059-4a2d-af44-c0ae224baeec"
   },
   "outputs": [],
   "source": [
    "# We define a set of punctuation marks to filter them out\n",
    "puncts = set((',', '.', '--', '-', '!', '?', ':', ';', '``', \"''\", '(', ')', '[', ']'))\n",
    "\n",
    "word_list = (x.lower() for x in brown.words() if x not in puncts)\n",
    "token_counts = Counter(word_list)\n",
    "token_counts.most_common(20)\n",
    "\n",
    "#Does this follow Zipf's distribution?"
   ]
  },
  {
   "cell_type": "markdown",
   "metadata": {
    "id": "-ciFJPxtlteb"
   },
   "source": [
    "Back to the slides"
   ]
  },
  {
   "cell_type": "markdown",
   "metadata": {
    "id": "9g6vZvtdlteb"
   },
   "source": [
    "## Inverse Document Frequency"
   ]
  },
  {
   "cell_type": "code",
   "execution_count": null,
   "metadata": {
    "colab": {
     "base_uri": "https://localhost:8080/"
    },
    "id": "xCVRSdE1ltec",
    "outputId": "ea13675e-dbca-4e72-e267-c4012226e32b"
   },
   "outputs": [],
   "source": [
    "# Loading two sections of document \"kite\" (from NLP in Action)\n",
    "# from nlpia.data.loaders import kite_text, kite_history\n",
    "\n",
    "kite_text = \"\"\"A kite is traditionally a tethered heavier-than-air craft with wing surfaces that react against the air to create lift and drag. A kite consists of wings, tethers, and anchors. Kites often have a bridle to guide the face of the kite at the correct angle so the wind can lift it. A kite's wing also may be so designed so a bridle is not needed; when kiting a sailplane for launch, the tether meets the wing at a single point. A kite may have fixed or moving anchors. Untraditionally in technical kiting, a kite consists of tether-set-coupled wing sets; even in technical kiting, though, a wing in the system is still often called the kite.\n",
    "\n",
    "The lift that sustains the kite in flight is generated when air flows around the kite's surface, producing low pressure above and high pressure below the wings. The interaction with the wind also generates horizontal drag along the direction of the wind. The resultant force vector from the lift and drag force components is opposed by the tension of one or more of the lines or tethers to which the kite is attached. The anchor point of the kite line may be static or moving (e.g., the towing of a kite by a running person, boat, free-falling anchors as in paragliders and fugitive parakites or vehicle).\n",
    "\n",
    "The same principles of fluid flow apply in liquids and kites are also used under water.\n",
    "\n",
    "A hybrid tethered craft comprising both a lighter-than-air balloon as well as a kite lifting surface is called a kytoon.\n",
    "\n",
    "Kites have a long and varied history and many different types are flown individually and at festivals worldwide. Kites may be flown for recreation, art or other practical uses. Sport kites can be flown in aerial ballet, sometimes as part of a competition. Power kites are multi-line steerable kites designed to generate large forces which can be used to power activities such as kite surfing, kite landboarding, kite fishing, kite buggying and a new trend snow kiting. Even Man-lifting kites have been made.\n",
    "\"\"\"\n",
    "kite_history = \"\"\"Kites were invented in China, where materials ideal for kite building were readily available: silk fabric for sail material; fine, high-tensile-strength silk for flying line; and resilient bamboo for a strong, lightweight framework.\n",
    "\n",
    "The kite has been claimed as the invention of the 5th-century BC Chinese philosophers Mozi (also Mo Di) and Lu Ban (also Gongshu Ban). By 549 AD paper kites were certainly being flown, as it was recorded that in that year a paper kite was used as a message for a rescue mission. Ancient and medieval Chinese sources describe kites being used for measuring distances, testing the wind, lifting men, signaling, and communication for military operations. The earliest known Chinese kites were flat (not bowed) and often rectangular. Later, tailless kites incorporated a stabilizing bowline. Kites were decorated with mythological motifs and legendary figures; some were fitted with strings and whistles to make musical sounds while flying. From China, kites were introduced to Cambodia, Thailand, India, Japan, Korea and the western world.\n",
    "\n",
    "After its introduction into India, the kite further evolved into the fighter kite, known as the patang in India, where thousands are flown every year on festivals such as Makar Sankranti.\n",
    "\n",
    "Kites were known throughout Polynesia, as far as New Zealand, with the assumption being that the knowledge diffused from China along with the people. Anthropomorphic kites made from cloth and wood were used in religious ceremonies to send prayers to the gods. Polynesian kite traditions are used by anthropologists get an idea of early \"primitive\" Asian traditions that are believed to have at one time existed in Asia.\n",
    "\"\"\"\n",
    "\n",
    "kite_intro = kite_text.lower()\n",
    "intro_tokens = tokenizer.tokenize(kite_intro)\n",
    "\n",
    "kite_history = kite_history.lower()\n",
    "history_tokens = tokenizer.tokenize(kite_history)\n",
    "\n",
    "print(intro_tokens)\n",
    "print(history_tokens)"
   ]
  },
  {
   "cell_type": "code",
   "execution_count": null,
   "metadata": {
    "colab": {
     "base_uri": "https://localhost:8080/"
    },
    "id": "_67EcwXkltec",
    "outputId": "0bb45b35-5ffa-41ae-a743-1e42196faca5"
   },
   "outputs": [],
   "source": [
    "intro_total = len(intro_tokens)\n",
    "intro_total"
   ]
  },
  {
   "cell_type": "code",
   "execution_count": null,
   "metadata": {
    "colab": {
     "base_uri": "https://localhost:8080/"
    },
    "id": "9F0YdjyUlted",
    "outputId": "3a95d0cb-b36c-418e-9bc6-8f6ae94dbb1f"
   },
   "outputs": [],
   "source": [
    "history_total = len(history_tokens)\n",
    "history_total"
   ]
  },
  {
   "cell_type": "code",
   "execution_count": null,
   "metadata": {
    "colab": {
     "base_uri": "https://localhost:8080/",
     "height": 36
    },
    "id": "jzQHAAnfltee",
    "outputId": "2dce1532-3d41-4821-c952-eb0b24bc0c03"
   },
   "outputs": [],
   "source": [
    "intro_tf = {}\n",
    "history_tf = {}\n",
    "\n",
    "intro_counts = Counter(intro_tokens)\n",
    "intro_tf['kite'] = intro_counts['kite'] / intro_total\n",
    "\n",
    "history_counts = Counter(history_tokens)\n",
    "history_tf['kite'] = history_counts['kite'] / history_total\n",
    "\n",
    "'Term Frequency of \"kite\" in intro is: {:.4f}'.format(intro_tf['kite'])"
   ]
  },
  {
   "cell_type": "code",
   "execution_count": null,
   "metadata": {
    "colab": {
     "base_uri": "https://localhost:8080/",
     "height": 36
    },
    "id": "UFJHZOvlltef",
    "outputId": "ed79f1d9-2830-48a1-8104-63a6bc97cb7b"
   },
   "outputs": [],
   "source": [
    "'Term Frequency of \"kite\" in history is: {:.4f}'.format(history_tf['kite'])"
   ]
  },
  {
   "cell_type": "markdown",
   "metadata": {
    "id": "oUIqv9Zkltef"
   },
   "source": [
    "$freq(kite, intro) \\sim 2 * freq(kite, history)$\n",
    "\n",
    "Is intro more about kites than history?"
   ]
  },
  {
   "cell_type": "code",
   "execution_count": null,
   "metadata": {
    "colab": {
     "base_uri": "https://localhost:8080/"
    },
    "id": "mzaLtXIXlteg",
    "outputId": "29961aed-cac5-4db3-f578-56ab81780484"
   },
   "outputs": [],
   "source": [
    "# giving perspective by looking at the frequency of other words\n",
    "intro_tf['and'] = intro_counts['and'] / intro_total\n",
    "history_tf['and'] = history_counts['and'] / history_total\n",
    "print('Term Frequency of \"and\" in intro is: {:.4f}'.format(intro_tf['and']))\n",
    "print('Term Frequency of \"and\" in history is: {:.4f}'.format(history_tf['and']))"
   ]
  },
  {
   "cell_type": "markdown",
   "metadata": {
    "id": "jg7wBl9slteg"
   },
   "source": [
    "$freq(and, \\cdot)$ is quite similar to $freq(kite, \\cdot)$\n",
    "\n",
    "So, the document is about **kites** and about **ands**?\n",
    "\n",
    "**Homework:** Write a function to compute the _tf_ and call with both intro_tokens and history_tokens instead of writing the same code twice"
   ]
  },
  {
   "cell_type": "markdown",
   "metadata": {
    "id": "kKk9uJ7Qlteg"
   },
   "source": [
    "(back to the slides)"
   ]
  },
  {
   "cell_type": "code",
   "execution_count": null,
   "metadata": {
    "colab": {
     "base_uri": "https://localhost:8080/"
    },
    "id": "M2-HekJIlteg",
    "outputId": "94909fd6-4613-4e5c-e977-7ebe35a1469f"
   },
   "outputs": [],
   "source": [
    "# Number of documents with *\n",
    "num_docs_containing_and = 0\n",
    "for doc in [intro_tokens, history_tokens]:\n",
    "    if 'and' in doc:\n",
    "        num_docs_containing_and += 1\n",
    "\n",
    "num_docs_containing_kite = 0\n",
    "for doc in [intro_tokens, history_tokens]:\n",
    "    if 'kite' in doc:\n",
    "        num_docs_containing_kite += 1\n",
    "\n",
    "num_docs_containing_china = 0\n",
    "for doc in [intro_tokens, history_tokens]:\n",
    "    if 'china' in doc:\n",
    "        num_docs_containing_china += 1\n",
    "\n",
    "print(\"and:\", num_docs_containing_and)\n",
    "print(\"kite:\", num_docs_containing_kite)\n",
    "print(\"china:\", num_docs_containing_china)"
   ]
  },
  {
   "cell_type": "code",
   "execution_count": null,
   "metadata": {
    "colab": {
     "base_uri": "https://localhost:8080/"
    },
    "id": "2LOTi3_xltei",
    "outputId": "497843e8-8e90-47a6-c367-2032fbc690c3"
   },
   "outputs": [],
   "source": [
    "# tf(china)\n",
    "intro_tf['china'] = intro_counts['china'] / intro_total\n",
    "history_tf['china'] = history_counts['china'] / history_total\n",
    "\n",
    "print(intro_tf)\n",
    "print(history_tf)"
   ]
  },
  {
   "cell_type": "code",
   "execution_count": null,
   "metadata": {
    "colab": {
     "base_uri": "https://localhost:8080/"
    },
    "id": "mvidgZMEltei",
    "outputId": "e3486c79-bfb3-4d88-c181-aedbb0ba9747"
   },
   "outputs": [],
   "source": [
    "# idf for all 3\n",
    "num_docs = 2.0\n",
    "idf = {}\n",
    "idf['and'] = num_docs / num_docs_containing_and\n",
    "idf['kite'] = num_docs / num_docs_containing_kite\n",
    "idf['china'] = num_docs / num_docs_containing_china\n",
    "\n",
    "print(idf)"
   ]
  },
  {
   "cell_type": "code",
   "execution_count": null,
   "metadata": {
    "id": "OhCif1sIltei"
   },
   "outputs": [],
   "source": [
    "# tf-idf for the intro\n",
    "\n",
    "intro_tfidf = {}\n",
    "intro_tfidf['and'] = intro_tf['and'] * idf['and']\n",
    "intro_tfidf['kite'] = intro_tf['kite'] * idf['kite']\n",
    "intro_tfidf['china'] = intro_tf['china'] * idf['china']"
   ]
  },
  {
   "cell_type": "code",
   "execution_count": null,
   "metadata": {
    "id": "xrVpiV8Altei"
   },
   "outputs": [],
   "source": [
    "# tfidf for the history\n",
    "history_tfidf = {}\n",
    "history_tfidf['and'] = history_tf['and'] * idf['and']\n",
    "history_tfidf['kite'] = history_tf['kite'] * idf['kite']\n",
    "history_tfidf['china'] = history_tf['china'] * idf['china']"
   ]
  },
  {
   "cell_type": "code",
   "execution_count": null,
   "metadata": {
    "colab": {
     "base_uri": "https://localhost:8080/"
    },
    "id": "koL4OPizltej",
    "outputId": "3c65a488-1dc9-4228-cd34-399270a11b3c"
   },
   "outputs": [],
   "source": [
    "print(intro_tfidf)\n",
    "print(history_tfidf)"
   ]
  },
  {
   "cell_type": "markdown",
   "metadata": {
    "id": "PKgBUVdJltej"
   },
   "source": [
    "**Homework:** Write a function to compute the tf-idf for all the documents in a (small) collection"
   ]
  },
  {
   "cell_type": "markdown",
   "metadata": {
    "id": "aNN1xDZaltel"
   },
   "source": [
    "Back to the slides"
   ]
  },
  {
   "cell_type": "markdown",
   "metadata": {
    "id": "Y8C8TQuMltel"
   },
   "source": [
    "## Searching on \"Harry\""
   ]
  },
  {
   "cell_type": "code",
   "execution_count": null,
   "metadata": {
    "id": "4xXSTHEKltel"
   },
   "outputs": [],
   "source": [
    "docs = [\"The faster Harry got to the store, the faster and faster Harry would get home.\"]\n",
    "docs.append(\"Harry is hairy and faster than Jill.\")\n",
    "docs.append(\"Jill is not as hairy as Harry.\")"
   ]
  },
  {
   "cell_type": "code",
   "execution_count": null,
   "metadata": {
    "colab": {
     "base_uri": "https://localhost:8080/"
    },
    "id": "Jq5DiRXvltel",
    "outputId": "1c42df46-74d3-4bb6-bb1f-d7c14f3039c3"
   },
   "outputs": [],
   "source": [
    "# not an extremely efficient implementation (quite verbose as well)\n",
    "document_tfidf_vectors = []\n",
    "for doc in docs:\n",
    "    vec = copy.copy(zero_vector)\n",
    "    tokens = tokenizer.tokenize(doc.lower())\n",
    "    token_counts = Counter(tokens)\n",
    "\n",
    "    for key, value in token_counts.items():\n",
    "        docs_containing_key = 0\n",
    "        for _doc in docs:\n",
    "            if key in _doc:\n",
    "                docs_containing_key += 1\n",
    "        tf = value / len(lexicon)\n",
    "        if docs_containing_key:\n",
    "            idf = len(docs) / docs_containing_key\n",
    "        else:\n",
    "            idf = 0\n",
    "        vec[key] = tf * idf\n",
    "    document_tfidf_vectors.append(vec)\n",
    "\n",
    "document_tfidf_vectors\n",
    "# Notice what happened to Harry"
   ]
  },
  {
   "cell_type": "code",
   "execution_count": null,
   "metadata": {
    "colab": {
     "base_uri": "https://localhost:8080/"
    },
    "id": "Yui8rtArltem",
    "outputId": "e7115126-3ce9-423c-ec0b-016e67e29760"
   },
   "outputs": [],
   "source": [
    "query = \"How long does it take to get to the hairy store?\"\n",
    "query_vec = copy.copy(zero_vector)\n",
    "# query_vec = copy.copy(zero_vector)\n",
    "\n",
    "tokens = tokenizer.tokenize(query.lower())\n",
    "token_counts = Counter(tokens)\n",
    "\n",
    "for key, value in token_counts.items():\n",
    "    docs_containing_key = 0\n",
    "    for _doc in docs:\n",
    "      if key in _doc.lower():\n",
    "        docs_containing_key += 1\n",
    "    if docs_containing_key == 0:\n",
    "        continue\n",
    "    tf = value / len(tokens)\n",
    "    idf = len(docs) / docs_containing_key\n",
    "    query_vec[key] = tf * idf\n",
    "query_vec"
   ]
  },
  {
   "cell_type": "code",
   "execution_count": null,
   "metadata": {
    "colab": {
     "base_uri": "https://localhost:8080/"
    },
    "id": "XTq383t4ltem",
    "outputId": "9925b5d1-43d2-4fca-f326-2bd8ca285c41"
   },
   "outputs": [],
   "source": [
    "cosine_sim(query_vec, document_tfidf_vectors[0])"
   ]
  },
  {
   "cell_type": "code",
   "execution_count": null,
   "metadata": {
    "colab": {
     "base_uri": "https://localhost:8080/"
    },
    "id": "YoMRrcfiltem",
    "outputId": "a6d23d69-d078-4795-8e1e-f26a9e2edc6a"
   },
   "outputs": [],
   "source": [
    "cosine_sim(query_vec, document_tfidf_vectors[1])"
   ]
  },
  {
   "cell_type": "code",
   "execution_count": null,
   "metadata": {
    "colab": {
     "base_uri": "https://localhost:8080/"
    },
    "id": "U0bNNn-Jltem",
    "outputId": "56bf4bd0-b1eb-4b9a-c94d-aaf075f9d4f3"
   },
   "outputs": [],
   "source": [
    "cosine_sim(query_vec, document_tfidf_vectors[2])"
   ]
  },
  {
   "cell_type": "code",
   "execution_count": null,
   "metadata": {
    "colab": {
     "base_uri": "https://localhost:8080/"
    },
    "id": "pa9g_-8yltem",
    "outputId": "05c20c91-c5ca-4ed9-c604-9d5528d5868c"
   },
   "outputs": [],
   "source": [
    "print(docs)\n",
    "print(query)"
   ]
  },
  {
   "cell_type": "markdown",
   "metadata": {
    "id": "nNkwyTkmltem"
   },
   "source": [
    "back to the slides"
   ]
  },
  {
   "cell_type": "markdown",
   "metadata": {
    "id": "Xy5hJRdQlten"
   },
   "source": [
    "## Using sklearn to build tf-idf matrices\n",
    "\n",
    "Now, rather than implementing everything ourselves, we will use a well-known python library to compute it for us."
   ]
  },
  {
   "cell_type": "code",
   "execution_count": null,
   "metadata": {
    "id": "-GEzuX6Ulten"
   },
   "outputs": [],
   "source": [
    "from sklearn.feature_extraction.text import TfidfVectorizer"
   ]
  },
  {
   "cell_type": "code",
   "execution_count": null,
   "metadata": {
    "id": "fqmwqL1Hlten"
   },
   "outputs": [],
   "source": [
    "# Same small corpus as before\n",
    "docs = [\"The faster Harry got to the store, the faster and faster Harry would get home.\"]\n",
    "docs.append(\"Harry is hairy and faster than Jill.\")\n",
    "docs.append(\"Jill is not as hairy as Harry.\")\n",
    "corpus = docs"
   ]
  },
  {
   "cell_type": "code",
   "execution_count": null,
   "metadata": {
    "colab": {
     "base_uri": "https://localhost:8080/"
    },
    "id": "FsbqiVzQlten",
    "outputId": "70a368ef-b68b-4d2d-c7b1-8bc271afdb6d"
   },
   "outputs": [],
   "source": [
    "vectorizer = TfidfVectorizer(min_df=1)\n",
    "\"\"\"min_df: ignore terms that have a document frequency\n",
    "strictly lower than the given threshold (aka cut-off).\n",
    "\"\"\"\n",
    "\n",
    "model = vectorizer.fit_transform(corpus)\n",
    "\"\"\"model is a sparse tf-idf matrix (mostly zeros)\n",
    "sklearn does not store zeros to save resources\"\"\"\n",
    "\n",
    "print(model)"
   ]
  },
  {
   "cell_type": "code",
   "execution_count": null,
   "metadata": {
    "colab": {
     "base_uri": "https://localhost:8080/"
    },
    "id": "OKS87Xyhlteo",
    "outputId": "f6d072a5-a625-4438-b6b1-90580f951db0"
   },
   "outputs": [],
   "source": [
    "# We can convert it into a matrix in one line!\n",
    "print(\"\\n--\\n\".join(corpus), \"\\n\")\n",
    "print(model.todense().round(2))"
   ]
  },
  {
   "cell_type": "markdown",
   "metadata": {
    "id": "06rkVYOQlteo"
   },
   "source": [
    "## End of the notebook"
   ]
  }
 ],
 "metadata": {
  "colab": {
   "provenance": []
  },
  "kernelspec": {
   "display_name": "Python 3 (ipykernel)",
   "language": "python",
   "name": "python3"
  },
  "language_info": {
   "codemirror_mode": {
    "name": "ipython",
    "version": 3
   },
   "file_extension": ".py",
   "mimetype": "text/x-python",
   "name": "python",
   "nbconvert_exporter": "python",
   "pygments_lexer": "ipython3",
   "version": "3.10.11"
  }
 },
 "nbformat": 4,
 "nbformat_minor": 4
}
